{
 "cells": [
  {
   "cell_type": "code",
   "execution_count": 1,
   "metadata": {},
   "outputs": [
    {
     "name": "stderr",
     "output_type": "stream",
     "text": [
      "Using TensorFlow backend.\n"
     ]
    }
   ],
   "source": [
    "# Import the required libraries\n",
    "import warnings\n",
    "import scipy.io as io\n",
    "%matplotlib inline\n",
    "import numpy as np\n",
    "import pandas as pd\n",
    "import matplotlib.pyplot as plt  # Matlab-style plotting\n",
    "plt.rcParams['font.sans-serif']=['Simhei'] \n",
    "plt.rcParams['axes.unicode_minus']=False   \n",
    "import seaborn as sns\n",
    "from sklearn.model_selection import train_test_split\n",
    "import math\n",
    "from sklearn.preprocessing import StandardScaler\n",
    "from sklearn.preprocessing import MinMaxScaler\n",
    "from sklearn.metrics import accuracy_score\n",
    "from keras.utils import np_utils#one-hot\n",
    "import tensorflow as tf\n",
    "from scipy.linalg import orth\n",
    "from scipy.linalg import svd\n",
    "from scipy.special import softmax\n",
    "warnings.filterwarnings(\"ignore\")"
   ]
  },
  {
   "cell_type": "code",
   "execution_count": 2,
   "metadata": {},
   "outputs": [],
   "source": [
    "# Import data sets\n",
    "X=io.loadmat(r'./Dataset/norbX.mat')\n",
    "y=io.loadmat(r'./Dataset/norbnumY.mat')"
   ]
  },
  {
   "cell_type": "code",
   "execution_count": 3,
   "metadata": {},
   "outputs": [],
   "source": [
    "y=pd.DataFrame(y['norbnumY'])"
   ]
  },
  {
   "cell_type": "code",
   "execution_count": 4,
   "metadata": {},
   "outputs": [],
   "source": [
    "X=pd.DataFrame(X['norbX'])"
   ]
  },
  {
   "cell_type": "code",
   "execution_count": 5,
   "metadata": {},
   "outputs": [
    {
     "name": "stdout",
     "output_type": "stream",
     "text": [
      "<class 'pandas.core.frame.DataFrame'>\n",
      "RangeIndex: 2048 entries, 0 to 2047\n",
      "Columns: 48600 entries, 0 to 48599\n",
      "dtypes: uint8(48600)\n",
      "memory usage: 94.9 MB\n"
     ]
    }
   ],
   "source": [
    "# View dataset information\n",
    "X.info()"
   ]
  },
  {
   "cell_type": "code",
   "execution_count": 6,
   "metadata": {},
   "outputs": [
    {
     "data": {
      "text/plain": [
       "5    9720\n",
       "4    9720\n",
       "3    9720\n",
       "2    9720\n",
       "1    9720\n",
       "dtype: int64"
      ]
     },
     "execution_count": 6,
     "metadata": {},
     "output_type": "execute_result"
    }
   ],
   "source": [
    "y.T.value_counts()"
   ]
  },
  {
   "cell_type": "code",
   "execution_count": 7,
   "metadata": {},
   "outputs": [
    {
     "name": "stdout",
     "output_type": "stream",
     "text": [
      "data shpe: (2048, 48600); label shape: (1, 48600)\n"
     ]
    }
   ],
   "source": [
    "print(\"data shpe: {}; label shape: {}\".format(X.shape, y.shape))\n",
    "# data:d*n\n",
    "#label:m*n\n",
    "#n is the number of sample"
   ]
  },
  {
   "cell_type": "code",
   "execution_count": 8,
   "metadata": {},
   "outputs": [],
   "source": [
    "# normalisation\n",
    "scaler = MinMaxScaler(feature_range=(0, 1))  \n",
    "# X= scaler.fit_transform(X)\n",
    "\n",
    "zscore=StandardScaler()\n",
    "X=zscore.fit_transform(X)"
   ]
  },
  {
   "cell_type": "code",
   "execution_count": 9,
   "metadata": {},
   "outputs": [],
   "source": [
    "X_train = X.T[:24300,:]\n",
    "X_test = X.T[-24300:,:]\n",
    "y_train = y.T.head(24300)\n",
    "y_test = y.T.tail(24300)"
   ]
  },
  {
   "cell_type": "code",
   "execution_count": 10,
   "metadata": {},
   "outputs": [],
   "source": [
    "# Hyperparameter definitions\n",
    "MAX_LAYER = 1\n",
    "MAX_SUBNET = 14\n",
    "# TRAING_RATIO = 0.7\n",
    "SAMPLE_RATIO=0.6\n",
    "HiddernNeuronsNum=3500\n",
    "lamb=1e-7\n",
    "para = 0.05\n",
    "actFun = 'gelu'\n",
    "p = 0.9\n",
    "nl=0.0001\n",
    "randomProES = 0.99#probability to early stop\n",
    "randomProSN = 0.6#probability of stopping add subnetwork"
   ]
  },
  {
   "cell_type": "code",
   "execution_count": 11,
   "metadata": {},
   "outputs": [
    {
     "data": {
      "text/plain": [
       "(24300, 2048)"
      ]
     },
     "execution_count": 11,
     "metadata": {},
     "output_type": "execute_result"
    }
   ],
   "source": [
    "X_train.shape"
   ]
  },
  {
   "cell_type": "code",
   "execution_count": 12,
   "metadata": {},
   "outputs": [
    {
     "data": {
      "text/plain": [
       "(24300, 1)"
      ]
     },
     "execution_count": 12,
     "metadata": {},
     "output_type": "execute_result"
    }
   ],
   "source": [
    "y_train.shape"
   ]
  },
  {
   "cell_type": "code",
   "execution_count": 13,
   "metadata": {},
   "outputs": [
    {
     "data": {
      "image/png": "[encoded data removed]",
      "text/plain": [
       "<Figure size 432x288 with 1 Axes>"
      ]
     },
     "metadata": {
      "needs_background": "light"
     },
     "output_type": "display_data"
    }
   ],
   "source": [
    "# plt.imshow(X_train.iloc[0].values.reshape(64,32))\n",
    "plt.imshow(X_train[0].reshape(64,32))\n",
    "plt.title('real label：'+str(y_train.iloc[0][0]))\n",
    "plt.show()"
   ]
  },
  {
   "cell_type": "code",
   "execution_count": 14,
   "metadata": {},
   "outputs": [],
   "source": [
    "#Transform labels from training and test sets into one-hot\n",
    "y_train = y_train - 1\n",
    "y_test = y_test - 1\n",
    "y_train = np_utils.to_categorical(y_train,5)\n",
    "y_test = np_utils.to_categorical(y_test,5)"
   ]
  },
  {
   "cell_type": "code",
   "execution_count": 15,
   "metadata": {},
   "outputs": [
    {
     "data": {
      "text/plain": [
       "array([[1., 0., 0., 0., 0.],\n",
       "       [0., 1., 0., 0., 0.],\n",
       "       [0., 0., 1., 0., 0.],\n",
       "       [0., 0., 0., 1., 0.],\n",
       "       [0., 0., 0., 0., 1.],\n",
       "       [1., 0., 0., 0., 0.],\n",
       "       [0., 1., 0., 0., 0.],\n",
       "       [0., 0., 1., 0., 0.],\n",
       "       [0., 0., 0., 1., 0.],\n",
       "       [0., 0., 0., 0., 1.]], dtype=float32)"
      ]
     },
     "execution_count": 15,
     "metadata": {},
     "output_type": "execute_result"
    }
   ],
   "source": [
    "#View the first ten training set labels\n",
    "y_train[:10]"
   ]
  },
  {
   "cell_type": "code",
   "execution_count": 16,
   "metadata": {},
   "outputs": [],
   "source": [
    "# Auto-encoder based on pseudo-inverse learning\n",
    "def PILAE(X,p,actFun,para):\n",
    "    #X:num*dim\n",
    "    lambda0 = 1e-8\n",
    "    N = X.shape[0]\n",
    "    d = X.shape[1]\n",
    "    WI = (np.random.rand(p,d)*2-1)\n",
    "    if p >= d:\n",
    "        WI = orth(WI)\n",
    "    else:\n",
    "        WI = orth(WI.T).T\n",
    "    H = WI.dot(X.T)\n",
    "    HO = ActivationFunc(H,actFun,1)\n",
    "#     print('X.T:{}'.format(X.T.shape))\n",
    "#     print('HO:{}'.format(HO.shape))\n",
    "    WO = X.T.dot(np.transpose(HO)).dot(np.linalg.pinv( HO.dot(np.transpose(HO))+lambda0*np.identity(p)))\n",
    "    F = np.transpose(WO).dot(X.T)\n",
    "    F = ActivationFunc(F,actFun,para)\n",
    "\n",
    "\n",
    "    return WI,WO,F"
   ]
  },
  {
   "cell_type": "code",
   "execution_count": 17,
   "metadata": {},
   "outputs": [],
   "source": [
    "def ActivationFunc(tempH,ActivationFunction,p):\n",
    "    \n",
    "    if ActivationFunction == 'relu':\n",
    "        H=np.maximum(0,tempH)\n",
    "    elif ActivationFunction == 'prelu':\n",
    "        alpha = 0.02;\n",
    "\n",
    "        H=np.maximum(alpha*tempH,tempH)\n",
    "    elif ActivationFunction == 'gelu':#xσ(1.702x)\n",
    "        H = tempH * 1.0/ (1 + np.exp(-p*tempH*1.702))\n",
    "    elif ActivationFunction == 'sigmod':\n",
    "        H = 1.0/(1+np.exp(-tempH))\n",
    "    elif ActivationFunction == 'srelu':\n",
    "        tempH[tempH <= 0] = 0\n",
    "        tempH[tempH > 0] = tempH\n",
    "        H = tempH\n",
    "    elif ActivationFunction == 'sin':\n",
    "        H = np.sin(tempH)\n",
    "    elif ActivationFunction == 'tanh':\n",
    "        H = np.np.tanh(tempH)\n",
    "    return H"
   ]
  },
  {
   "cell_type": "code",
   "execution_count": 18,
   "metadata": {},
   "outputs": [],
   "source": [
    "X_train32 = X_train.reshape(24300,64,32)"
   ]
  },
  {
   "cell_type": "code",
   "execution_count": 19,
   "metadata": {},
   "outputs": [
    {
     "data": {
      "text/plain": [
       "(24300, 64, 32)"
      ]
     },
     "execution_count": 19,
     "metadata": {},
     "output_type": "execute_result"
    }
   ],
   "source": [
    "X_train32.shape"
   ]
  },
  {
   "cell_type": "code",
   "execution_count": 20,
   "metadata": {},
   "outputs": [
    {
     "data": {
      "text/plain": [
       "<matplotlib.image.AxesImage at 0x183d2b5bda0>"
      ]
     },
     "execution_count": 20,
     "metadata": {},
     "output_type": "execute_result"
    },
    {
     "data": {
      "image/png": "[encoded data removed]",
      "text/plain": [
       "<Figure size 432x288 with 1 Axes>"
      ]
     },
     "metadata": {
      "needs_background": "light"
     },
     "output_type": "display_data"
    }
   ],
   "source": [
    "plt.imshow(X_train32[2])"
   ]
  },
  {
   "cell_type": "code",
   "execution_count": 21,
   "metadata": {},
   "outputs": [],
   "source": [
    "#Dimensionality reduction or prediction on the receptive field data\n",
    "def SONG_PRF_reduc_pred(newmap, method, net,testF,BiasofHiddenNeurons):\n",
    "    if method ==1:\n",
    "        # #################### reduction #####################\n",
    "        InputDataLayer = newmap\n",
    "        l=1\n",
    "        while l<=1:\n",
    "            tF = net['WO'][l-1].T.dot(InputDataLayer.T)\n",
    "            tF = ActivationFunc(tF,actFun,2)\n",
    "            InputDataLayer = tF\n",
    "            l = l+1\n",
    "            if len(testF) == 0:\n",
    "                testF.append(InputDataLayer)\n",
    "                testF = testF[0]\n",
    "            else:\n",
    "                testF = np.vstack((testF,InputDataLayer))\n",
    "    elif method == 2:\n",
    "        # #################### prediction #####################\n",
    "        H = np.dot(net['WI'][0], newmap.T)\n",
    "        ind = np.ones((1, newmap.shape[0]), dtype=int)\n",
    "        BiasMatrix=np.dot(BiasofHiddenNeurons,ind)\n",
    "        H = H + BiasMatrix\n",
    "        HO = ActivationFunc(H,actFun,para)\n",
    "        TO = np.dot(net['WO'][0], HO)\n",
    "        if len(testF) == 0:\n",
    "            testF.append(TO)\n",
    "            testF = testF[0]\n",
    "\n",
    "        else:\n",
    "            testF = np.vstack((testF,TO))\n",
    "\n",
    "    return testF"
   ]
  },
  {
   "cell_type": "code",
   "execution_count": 22,
   "metadata": {},
   "outputs": [],
   "source": [
    "def SONG_PRF(X, Y, TX,ValidData,VaT, winSize, stride, dim,w,h,noiseLevel,actFun,para,lam):\n",
    "    #X:num*dim\n",
    "    #Y:num*classNum\n",
    "    GRID = 8\n",
    "    numdims=X.shape[1]\n",
    "    numsamples=X.shape[0]\n",
    "    HiddernNeuronsNum = winSize*4\n",
    "    NumberOfTestSamples = TX.shape[0]\n",
    "    NumberOfValidSamples = ValidData.shape[0]\n",
    " \n",
    "    trainF = []\n",
    "    validF = []\n",
    "    testF = []\n",
    "    label_index = [(np.argmax(one_hot)+1)for one_hot in np.array(Y)]\n",
    "    label_indexArr = np.array(label_index)\n",
    "    if (dim==2):\n",
    "        X=X.reshape(numsamples,h,w)\n",
    "        ValidData=ValidData.reshape(NumberOfValidSamples,h,w)\n",
    "        TX=TX.reshape(NumberOfTestSamples,h,w)\n",
    "        newY = np.zeros((Y.shape[0],GRID,Y.shape[1]*GRID))\n",
    "        for j in range(1,GRID+1):\n",
    "            for i in range(1,Y.shape[0]+1):\n",
    "                new_label_index = (label_indexArr-1)*GRID+1\n",
    "                newY[i-1,j-1,new_label_index[i-1]+j-1-1] = 1\n",
    "        start_idx=0\n",
    "        stop = 0\n",
    "        hstart_idx=0\n",
    "        hstop = 0\n",
    "        while (not stop):\n",
    "            if (start_idx+winSize-1 >= w-1):\n",
    "                end_idx  = w-1\n",
    "                stop = 1\n",
    "            else:\n",
    "                end_idx = start_idx+winSize-1\n",
    "            length = end_idx - start_idx+1\n",
    "            hstart_idx=0\n",
    "            hstop = 0\n",
    "            while (not hstop):\n",
    "                if (hstart_idx+winSize >= h):\n",
    "                    hend_idx  = h-1\n",
    "                    hstop = 1\n",
    "                else:\n",
    "                    hend_idx = hstart_idx+winSize-1\n",
    "                hlen = hend_idx - hstart_idx+1\n",
    "                win = X[:,hstart_idx:hend_idx+1,start_idx:end_idx+1]\n",
    "                if stop == 1 and hstop==1:\n",
    "                    win = np.concatenate((win,np.zeros((X.shape[0],winSize-win.shape[1],length))),axis=1)\n",
    "                    #break\n",
    "                if stop == 0 and hstop == 1:\n",
    "                    win = np.concatenate((win,np.zeros((X.shape[0],winSize-win.shape[1],winSize))),axis=1)\n",
    "\n",
    "                if start_idx<=math.ceil(w/2) and hstart_idx<=math.ceil(h/4):#upper left\n",
    "                    extY = np.reshape(newY[:,0,:],(Y.shape[0],Y.shape[1]*GRID))\n",
    "                elif start_idx>math.ceil(w/2) and hstart_idx<=math.ceil(h/4):#upper right\n",
    "                    extY = np.reshape(newY[:,1,:],(Y.shape[0],Y.shape[1]*GRID))\n",
    "                elif start_idx<=math.ceil(w/2)and hstart_idx>math.ceil(h/4) and hstart_idx<=math.ceil(h/2):\n",
    "                    extY = np.reshape(newY[:,2,:],(Y.shape[0],Y.shape[1]*GRID))\n",
    "                elif start_idx>math.ceil(w/2) and hstart_idx>math.ceil(h/4) and hstart_idx<=math.ceil(h/2):\n",
    "                    extY = np.reshape(newY[:,3,:],(Y.shape[0],Y.shape[1]*GRID))\n",
    "                elif start_idx<=math.ceil(w/2)and hstart_idx>math.ceil(h/2) and hstart_idx<=math.ceil(h*3/4):\n",
    "                    extY = np.reshape(newY[:,4,:],(Y.shape[0],Y.shape[1]*GRID))\n",
    "                elif start_idx>math.ceil(w/2) and hstart_idx>math.ceil(h/2) and hstart_idx<=math.ceil(h*3/4):\n",
    "                    extY = np.reshape(newY[:,5,:],(Y.shape[0],Y.shape[1]*GRID))\n",
    "                elif start_idx<=math.ceil(w/2)and hstart_idx>math.ceil(h*3/4):#lower left\n",
    "                    extY = np.reshape(newY[:,6,:],(Y.shape[0],Y.shape[1]*GRID))\n",
    "                elif start_idx>math.ceil(w/2) and hstart_idx>math.ceil(h*3/4):#lower right\n",
    "                    extY = np.reshape(newY[:,7,:],(Y.shape[0],Y.shape[1]*GRID))\n",
    "                # ####################training########################\n",
    "                win = np.reshape(win,(numsamples,length*winSize))\n",
    "#                 newmap= scaler.fit_transform(win)\n",
    "                newmap=zscore.fit_transform(win)\n",
    "                method = 1\n",
    "                net={}\n",
    "                net['WI'] = []\n",
    "                net['WO'] = []\n",
    "                if method ==1:\n",
    "                    # #################### reduction #####################\n",
    "                    l=1\n",
    "                    BiasofHiddenNeurons=0\n",
    "                    while l<=1:\n",
    "                        InputDataLayer = newmap\n",
    "\n",
    "                        WI,WO,F = PILAE(InputDataLayer,HiddernNeuronsNum,actFun,2)\n",
    "                        net['WI'].append(WI)\n",
    "                        net['WO'].append(WO)\n",
    "                        InputDataLayer = F\n",
    "                        l = l+1\n",
    "\n",
    "                    if len(trainF) == 0:\n",
    "                        trainF.append(InputDataLayer)\n",
    "                        trainF = trainF[0]\n",
    "\n",
    "                    else:\n",
    "                        trainF = np.vstack((trainF,InputDataLayer))\n",
    "\n",
    "                elif method == 2:\n",
    "                    # #################### prediction #####################\n",
    "                    InputWeight = np.random.rand(HiddernNeuronsNum, length * winSize) * 2 - 1\n",
    "                    BiasofHiddenNeurons = np.random.rand(HiddernNeuronsNum, 1)\n",
    "                    H = np.dot(InputWeight, newmap.T)\n",
    "                    ind = np.ones((1, numsamples), dtype=int)\n",
    "\n",
    "                    BiasMatrix=np.dot(BiasofHiddenNeurons,ind)\n",
    "                    H = H + BiasMatrix\n",
    "                    HO = ActivationFunc(H, actFun, para)\n",
    "                    OutputWeight = extY.T.dot(HO.T).dot(np.linalg.pinv(np.dot(HO, HO.T) + lamb * np.eye(HiddernNeuronsNum)))\n",
    "                    O = np.dot(OutputWeight, HO)\n",
    "                    net['WI'].append(InputWeight)\n",
    "                    net['WO'].append(OutputWeight)\n",
    "                    if len(trainF) == 0:\n",
    "                        trainF.append(O)\n",
    "                        trainF = trainF[0]\n",
    "\n",
    "                    else:\n",
    "                        trainF = np.vstack((trainF,O))\n",
    "                # #################### validating ########################\n",
    "                win = ValidData[:,hstart_idx:hend_idx+1,start_idx:end_idx+1]\n",
    "                if stop == 1 and hstop==1:\n",
    "                    win = np.concatenate((win,np.zeros((ValidData.shape[0],winSize-win.shape[1],length))),axis=1)\n",
    "                    #break\n",
    "                if stop == 0 and hstop == 1:\n",
    "\n",
    "                    win = np.concatenate((win,np.zeros((ValidData.shape[0],winSize-win.shape[1],winSize))),axis=1)\n",
    "                win = np.reshape(win,(NumberOfValidSamples,length*winSize))\n",
    "\n",
    "#                 newmap= scaler.fit_transform(win)\n",
    "                newmap=zscore.fit_transform(win)\n",
    "                validF = SONG_PRF_reduc_pred(newmap, method, net,validF,BiasofHiddenNeurons)\n",
    "\n",
    "                # #################### testing ########################\n",
    "                \n",
    "                win = TX[:,hstart_idx:hend_idx+1,start_idx:end_idx+1]\n",
    "                if stop == 1 and hstop==1:\n",
    "                    win = np.concatenate((win,np.zeros((TX.shape[0],winSize-win.shape[1],length))),axis=1)\n",
    "                    #break\n",
    "                if stop == 0 and hstop == 1:\n",
    "                    win = np.concatenate((win,np.zeros((TX.shape[0],winSize-win.shape[1],winSize))),axis=1)\n",
    "                win = np.reshape(win,(NumberOfTestSamples,length*winSize))\n",
    "\n",
    "#                 newmap= scaler.fit_transform(win)\n",
    "                newmap=zscore.fit_transform(win)\n",
    "                testF = SONG_PRF_reduc_pred(newmap, method, net,testF,BiasofHiddenNeurons)\n",
    "\n",
    "                hstart_idx = hend_idx+1\n",
    "            start_idx = end_idx+1\n",
    "        newmap=None\n",
    "        win=None\n",
    "        \n",
    "        if method==2:\n",
    "            HiddernNeuronsNum = y_test.shape[1]*GRID\n",
    "\n",
    "        return HiddernNeuronsNum,trainF,validF,testF\n",
    "    elif dim==1:\n",
    "        GRID=2\n",
    "        HiddernNeuronsNum = 128\n",
    "        newY = np.zeros((Y.shape[0],GRID,Y.shape[1]*GRID))\n",
    "        for j in range(1,GRID+1):\n",
    "            for i in range(1,Y.shape[0]+1):\n",
    "                new_label_index = (label_indexArr-1)*GRID+1\n",
    "                newY[i-1,j-1,new_label_index[i-1]+j-1-1] = 1\n",
    "        start_idx=1\n",
    "        stop = 0\n",
    "        while (not stop):\n",
    "            if (start_idx+winSize-1 >= w-1):\n",
    "                end_idx  = w-1\n",
    "                stop = 1\n",
    "            else:\n",
    "                end_idx = start_idx+winSize-1\n",
    "            length = end_idx - start_idx+1\n",
    "            win = X[:,start_idx:end_idx+1]\n",
    "            if stop == 1:\n",
    "                win = np.concatenate((win,np.zeros((X.shape[0],winSize-win.shape[1]))),axis=1)\n",
    "            if start_idx<=math.ceil(w/2):# left\n",
    "                extY = np.reshape(newY[:,0,:],(Y.shape[0],Y.shape[1]*GRID))\n",
    "            elif start_idx>math.ceil(w/2):# right\n",
    "                extY = np.reshape(newY[:,1,:],(Y.shape[0],Y.shape[1]*GRID))\n",
    "            newmap=zscore.fit_transform(win)\n",
    "            method = 1\n",
    "            net={}\n",
    "            net['WI'] = []\n",
    "            net['WO'] = []\n",
    "            if method ==1:\n",
    "                # #################### reduction #####################\n",
    "                l=1\n",
    "                BiasofHiddenNeurons=0\n",
    "                while l<=1:\n",
    "                    InputDataLayer = newmap\n",
    "                    WI,WO,F = PILAE(InputDataLayer,HiddernNeuronsNum,actFun,2)\n",
    "                    net['WI'].append(WI)\n",
    "                    net['WO'].append(WO)\n",
    "                    InputDataLayer = F\n",
    "                    l = l+1\n",
    "\n",
    "                if len(trainF) == 0:\n",
    "                    trainF.append(InputDataLayer)\n",
    "                    trainF = trainF[0]\n",
    "                else:\n",
    "                    trainF = np.vstack((trainF,InputDataLayer))\n",
    "            elif method == 2:\n",
    "                # #################### prediction #####################\n",
    "                InputWeight = np.random.rand(HiddernNeuronsNum, length * winSize) * 2 - 1\n",
    "                BiasofHiddenNeurons = np.random.rand(HiddernNeuronsNum, 1)\n",
    "                H = np.dot(InputWeight, newmap.T)\n",
    "                ind = np.ones((1, numsamples), dtype=int)\n",
    "                BiasMatrix=np.dot(BiasofHiddenNeurons,ind)\n",
    "                H = H + BiasMatrix\n",
    "                HO = ActivationFunc(H, actFun, para)\n",
    "                OutputWeight = extY.T.dot(HO.T).dot(np.linalg.pinv(np.dot(HO, HO.T) + lamb * np.eye(HiddernNeuronsNum)))\n",
    "                O = np.dot(OutputWeight, HO)\n",
    "                net['WI'].append(InputWeight)\n",
    "                net['WO'].append(OutputWeight)\n",
    "                if len(trainF) == 0:\n",
    "                    trainF.append(O)\n",
    "                    trainF = trainF[0]\n",
    "                else:\n",
    "                    trainF = np.vstack((trainF,O))\n",
    "            # #################### validating ########################\n",
    "            win = ValidData[:,start_idx:end_idx+1]\n",
    "            if stop == 1:\n",
    "                win = np.concatenate((win,np.zeros((ValidData.shape[0],winSize-win.shape[1]))),axis=1)\n",
    "                #break\n",
    "               \n",
    "            newmap=zscore.fit_transform(win)\n",
    "            validF = SONG_PRF_reduc_pred(newmap, method, net,validF,BiasofHiddenNeurons)\n",
    "            # #################### testing ########################\n",
    "                \n",
    "            win = TX[:,start_idx:end_idx+1]\n",
    "            if stop == 1:\n",
    "                win = np.concatenate((win,np.zeros((TX.shape[0],winSize-win.shape[1]))),axis=1)\n",
    "                #break\n",
    "\n",
    "            newmap=zscore.fit_transform(win)\n",
    "            testF = SONG_PRF_reduc_pred(newmap, method, net,testF,BiasofHiddenNeurons)\n",
    "            start_idx = end_idx+1\n",
    "        newmap=None\n",
    "        win=None\n",
    "        \n",
    "        if method==2:\n",
    "            HiddernNeuronsNum = y_test.shape[1]*GRID\n",
    "        return HiddernNeuronsNum,trainF,validF,testF"
   ]
  },
  {
   "cell_type": "code",
   "execution_count": 23,
   "metadata": {},
   "outputs": [],
   "source": [
    "def SONG_self_atten(train,valid,test,patch_len):\n",
    "    #train:number of training sample*dim\n",
    "    #valid:num*dim\n",
    "    #test:num*dim\n",
    "    train_sample_num = train.shape[0]\n",
    "    test_sample_num = test.shape[0]\n",
    "    valid_sample_num= valid.shape[0]\n",
    "    patch_num = math.ceil(train.shape[1]/patch_len)\n",
    "\n",
    "\n",
    "    tr = []\n",
    "    te = []\n",
    "    va = []\n",
    "    shape = np.ones((patch_len,1))\n",
    "    for train_sample_idx in range(1,train_sample_num+1):\n",
    "        tr_sample = []\n",
    "\n",
    "        X = np.reshape(train[train_sample_idx-1,:],(patch_len,patch_num))\n",
    "        K = X\n",
    "        Q = X.T\n",
    "\n",
    "        M = Q.dot(K)/math.sqrt(K.shape[0])\n",
    "        A = softmax(M.T, axis=0)\n",
    "        for patch_idx in range(1,patch_num+1):\n",
    "            Att=np.kron(A[:,patch_idx-1].T,shape)\n",
    "            Z = X*Att\n",
    "            S=np.sum(Z, axis=1)\n",
    "            tr_sample.extend(S)\n",
    "        tr.append(tr_sample)\n",
    "    tr = np.array(tr)\n",
    "    \n",
    "    for valid_sample_idx in range(1,valid_sample_num+1):\n",
    "        va_sample = []\n",
    "        X = np.reshape(valid[valid_sample_idx-1,:],(patch_len,patch_num))\n",
    "        K = X\n",
    "        Q = X.T\n",
    "        M = Q.dot(K)/math.sqrt(K.shape[0])\n",
    "        A = softmax(M.T, axis=0)\n",
    "        for patch_idx in range(1,patch_num+1):\n",
    "            Att=np.kron(A[:,patch_idx-1].T,shape)\n",
    "            Z = X*Att\n",
    "            S=np.sum(Z, axis=1)\n",
    "            va_sample.extend(S)\n",
    "        va.append(va_sample)\n",
    "    va = np.array(va)\n",
    "    \n",
    "    for test_sample_idx in range(1,test_sample_num+1):\n",
    "        te_sample = []\n",
    "        X = np.reshape(test[test_sample_idx-1,:],(patch_len,patch_num))\n",
    "        K = X\n",
    "        Q = X.T\n",
    "        M = Q.dot(K)/math.sqrt(K.shape[0])\n",
    "        A = softmax(M.T, axis=0)\n",
    "        for patch_idx in range(1,patch_num+1):\n",
    "            Att=np.kron(A[:,patch_idx-1].T,shape)\n",
    "            Z = X*Att\n",
    "            S=np.sum(Z, axis=1)\n",
    "            te_sample.extend(S)\n",
    "        te.append(te_sample)\n",
    "    te = np.array(te)\n",
    "    return tr,va,te"
   ]
  },
  {
   "cell_type": "code",
   "execution_count": 24,
   "metadata": {},
   "outputs": [],
   "source": [
    "def SONG_Test_Classifier(data,y,esbTY,InputWeight,OutputWeight,BiasofHiddenNeurons,para,actFun):\n",
    "    #data:dim*num\n",
    "    #y:num*classnum\n",
    "    InputDataLayer = data\n",
    "    InputLabel = y\n",
    "    NumberOfTestSamples = InputDataLayer.shape[1]\n",
    "    y_test_label = [np.argmax(one_hot)for one_hot in np.array(y)]\n",
    "    tempH=InputWeight.dot(InputDataLayer)\n",
    "    InputDataLayer= None\n",
    "    ind=np.ones((1,NumberOfTestSamples))\n",
    "    BiasMatrix=np.dot(BiasofHiddenNeurons,ind)\n",
    "    tempH=tempH+BiasMatrix\n",
    "    HO = ActivationFunc(tempH,actFun,para)\n",
    "    TY=OutputWeight.dot(HO)\n",
    "    \n",
    "    a = np.argmax(TY.T, axis=1)\n",
    "    b = np.zeros((len(a), TY.shape[0]))\n",
    "    b[np.arange(len(a)), a] = 1\n",
    "    pred = [np.argmax(one_hot)for one_hot in np.array(b)]\n",
    "    Tacc = accuracy_score(y_test_label,pred)\n",
    "    esbTY = esbTY + TY.T\n",
    "    a = np.argmax(esbTY, axis=1)\n",
    "    b = np.zeros((len(a), esbTY.shape[1]))\n",
    "    b[np.arange(len(a)), a] = 1\n",
    "    pred = [np.argmax(one_hot)for one_hot in np.array(b)]\n",
    "\n",
    "    Eacc = accuracy_score(y_test_label,pred)\n",
    "    return pred,Eacc,esbTY"
   ]
  },
  {
   "cell_type": "code",
   "execution_count": 25,
   "metadata": {
    "scrolled": true
   },
   "outputs": [
    {
     "name": "stdout",
     "output_type": "stream",
     "text": [
      "subnets:3,acc:0.8933333333333333\n",
      "subnets:6,acc:0.9125102880658437\n",
      "subnets:9,acc:0.9165432098765433\n",
      "subnets:12,acc:0.9204938271604939\n"
     ]
    }
   ],
   "source": [
    "### SONG\n",
    "sub_net = 1\n",
    "best_V_Eacc = 0\n",
    "X_trainO = X_train\n",
    "y_trainO = y_train\n",
    "\n",
    "X_train, X_valid, y_train, y_valid = train_test_split(X_trainO, y_trainO, test_size = 0.2)\n",
    "esbTY = np.zeros(y_test.shape)\n",
    "esbVY = np.zeros(y_valid.shape)\n",
    "\n",
    "while (sub_net <= MAX_SUBNET):\n",
    "    SR=np.random.normal(loc=SAMPLE_RATIO,scale=0.02)\n",
    "    if SR > 1 or SR <=0:\n",
    "        SR = SAMPLE_RATIO\n",
    "    X_train, X_va, y_train, y_va = train_test_split(X_trainO, y_trainO, test_size = 1-SR)\n",
    "    y_train_label = [np.argmax(one_hot)for one_hot in np.array(y_train)]\n",
    "    patch=np.random.randint(4,8)/3.5\n",
    "    PRFWinSize = math.ceil(32/patch)\n",
    "    stride = math.ceil(PRFWinSize/1)\n",
    "\n",
    "    hsize,trainBatch,validBatch,testBatch = SONG_PRF(X_train,y_train,X_test,X_valid,y_valid,PRFWinSize,stride,2,64,32,nl,actFun,para,lamb)\n",
    "    if trainBatch.shape[0]==0:\n",
    "        print('no suitable bcatch')\n",
    "        continue\n",
    "    trainBatch,validBatch,testBatch = SONG_self_atten(trainBatch.T,validBatch.T,testBatch.T,hsize)#dim*num\n",
    "\n",
    "    trainBatch= scaler.fit_transform(trainBatch)\n",
    "    validBatch= scaler.fit_transform(validBatch)\n",
    "    testBatch= scaler.fit_transform(testBatch)\n",
    "#     trainBatch=zscore.fit_transform(trainBatch)\n",
    "#     validBatch = zscore.fit_transform(validBatch)\n",
    "#     testBatch=zscore.fit_transform(testBatch)\n",
    "\n",
    "    #==================================\n",
    "    l=1\n",
    "    InputDataLayer = trainBatch\n",
    "    best_V_acc = 0\n",
    "    net={}\n",
    "    net['WI']=[]\n",
    "    net['WO']=[]\n",
    "    best_V_acc = 0\n",
    "    TInputDataLayer=[]\n",
    "    cls = {}\n",
    "    cls['Bias'] = []\n",
    "    cls['IW'] = []\n",
    "    cls['OW'] = []\n",
    "    while l<=MAX_LAYER:\n",
    "        WI,WO,F = PILAE(InputDataLayer,math.floor(p*InputDataLayer.shape[1]),actFun,2)\n",
    "        net['WO'].append(WO)\n",
    "        InputDataLayer = F\n",
    "        TInputDataLayer.append(InputDataLayer)\n",
    "\n",
    "        numsamples = InputDataLayer.shape[1]\n",
    "        numdims = InputDataLayer.shape[0]\n",
    "        InputWeight=np.random.rand(HiddernNeuronsNum,numdims)*2-1\n",
    "        if HiddernNeuronsNum >= numdims:\n",
    "            InputWeight = orth(InputWeight)\n",
    "        else:\n",
    "            InputWeight = orth(InputWeight.T).T\n",
    "        BiasofHiddenNeurons=np.random.rand(HiddernNeuronsNum,1)\n",
    "        cls['Bias'].append(BiasofHiddenNeurons)\n",
    "        tempH=InputWeight.dot(InputDataLayer)\n",
    "        cls['IW'].append(InputWeight)\n",
    "        ind=np.ones((1,numsamples))\n",
    "        BiasMatrix=np.dot(BiasofHiddenNeurons,ind)\n",
    "        tempH=tempH+BiasMatrix\n",
    "        HO = ActivationFunc(tempH,actFun,para)\n",
    "        OutputWeight=np.transpose(y_train).dot(np.transpose(HO)).dot(np.linalg.pinv( HO.dot(np.transpose(HO))+lamb*np.identity(HiddernNeuronsNum)))\n",
    "        Y=OutputWeight.dot(HO)\n",
    "        cls['OW'].append(OutputWeight)\n",
    "        H0=None\n",
    "        tempH=None\n",
    "        a = np.argmax(Y.T, axis=1)\n",
    "        b = np.zeros((len(a), Y.shape[0]))\n",
    "        b[np.arange(len(a)), a] = 1\n",
    "        pred = [np.argmax(one_hot)for one_hot in np.array(b)]\n",
    "        acc = accuracy_score(y_train_label,pred)\n",
    "        l = l+1\n",
    "\n",
    "    InputDataLayer = validBatch\n",
    "    l=1\n",
    "    while l<=MAX_LAYER:\n",
    "        vF = net['WO'][l-1].T.dot(InputDataLayer.T)\n",
    "        vF = ActivationFunc(vF,actFun,2)\n",
    "        InputDataLayer = vF\n",
    "        VY=0\n",
    "        pred,Vacc,VY = SONG_Test_Classifier(InputDataLayer,y_valid,VY,cls['IW'][l-1],cls['OW'][l-1],cls['Bias'][l-1],para,actFun)\n",
    "        #print('子网Vacc:{}'.format(Vacc))\n",
    "        if Vacc >= best_V_acc:\n",
    "            best_V_acc = Vacc\n",
    "            validBatch = InputDataLayer\n",
    "            MAX_LAYER2 = MAX_LAYER\n",
    "        else:\n",
    "            if np.random.rand() < randomProES:\n",
    "                MAX_LAYER2 = l-1\n",
    "                break\n",
    "        \n",
    "        l=l+1\n",
    "\n",
    "    InputDataLayer = testBatch\n",
    "    l=1\n",
    "    while l<=MAX_LAYER2:\n",
    "        tF = net['WO'][l-1].T.dot(InputDataLayer.T)\n",
    "        tF = ActivationFunc(tF,actFun,2)\n",
    "        InputDataLayer = tF\n",
    "        l=l+1\n",
    "    testBatch = InputDataLayer\n",
    "\n",
    "    pred,VEacc,esbVY = SONG_Test_Classifier(validBatch,y_valid,esbVY,cls['IW'][MAX_LAYER2-1],cls['OW'][MAX_LAYER2-1],cls['Bias'][MAX_LAYER2-1],para,actFun)\n",
    "    #print('子网络数:{},VEacc:{}'.format(sub_net,VEacc))\n",
    "    if VEacc >= best_V_Eacc:\n",
    "        best_V_Eacc = VEacc\n",
    "    else:\n",
    "        if np.random.rand() < randomProSN:\n",
    "            sub_net += 1\n",
    "        break\n",
    "        \n",
    "    #test\n",
    "    VTpred,Eacc,esbTY = SONG_Test_Classifier(testBatch,y_test,esbTY,cls['IW'][MAX_LAYER2-1],cls['OW'][MAX_LAYER2-1],cls['Bias'][MAX_LAYER2-1],para,actFun)\n",
    "\n",
    "    if (sub_net % 3)==0:\n",
    "        print('subnets:{},acc:{}'.format(sub_net,Eacc))\n",
    "    sub_net = sub_net + 1"
   ]
  },
  {
   "cell_type": "code",
   "execution_count": 26,
   "metadata": {},
   "outputs": [
    {
     "name": "stdout",
     "output_type": "stream",
     "text": [
      "subnets:14,acc:0.9209876543209876\n"
     ]
    }
   ],
   "source": [
    "print('subnets:{},acc:{}'.format(sub_net-1,Eacc))"
   ]
  },
  {
   "cell_type": "code",
   "execution_count": 27,
   "metadata": {},
   "outputs": [],
   "source": [
    "#pred\n",
    "y_test_label = [np.argmax(one_hot)for one_hot in np.array(y_test)]"
   ]
  },
  {
   "cell_type": "code",
   "execution_count": 28,
   "metadata": {},
   "outputs": [
    {
     "data": {
      "image/png": "[encoded data removed]",
      "text/plain": [
       "<Figure size 432x288 with 1 Axes>"
      ]
     },
     "metadata": {
      "needs_background": "light"
     },
     "output_type": "display_data"
    }
   ],
   "source": [
    "i = 0\n",
    "#绘制图像\n",
    "\n",
    "img_test = X_test[i].reshape(64,32)\n",
    "plt.imshow(img_test)\n",
    "\n",
    "\n",
    "title='real label：{}\\npredictive label：{}'.format(y_test_label[i],VTpred[i])\n",
    "\n",
    "plt.title(title)\n",
    "plt.show()"
   ]
  },
  {
   "cell_type": "code",
   "execution_count": 29,
   "metadata": {},
   "outputs": [
    {
     "data": {
      "text/plain": [
       "array([[4588,  136,  109,   18,    9],\n",
       "       [ 429, 4302,   67,    2,   60],\n",
       "       [ 157,   26, 4555,   20,  102],\n",
       "       [  41,   12,   12, 4720,   75],\n",
       "       [  10,    0,    3,  632, 4215]], dtype=int64)"
      ]
     },
     "execution_count": 29,
     "metadata": {},
     "output_type": "execute_result"
    }
   ],
   "source": [
    "from sklearn.metrics import confusion_matrix \n",
    "confusion_matrix(y_test_label,VTpred)"
   ]
  },
  {
   "cell_type": "code",
   "execution_count": null,
   "metadata": {},
   "outputs": [],
   "source": []
  }
 ],
 "metadata": {
  "kernelspec": {
   "display_name": "tensorflow",
   "language": "python",
   "name": "tensorflow"
  },
  "language_info": {
   "codemirror_mode": {
    "name": "ipython",
    "version": 3
   },
   "file_extension": ".py",
   "mimetype": "text/x-python",
   "name": "python",
   "nbconvert_exporter": "python",
   "pygments_lexer": "ipython3",
   "version": "3.6.13"
  }
 },
 "nbformat": 4,
 "nbformat_minor": 2
}
